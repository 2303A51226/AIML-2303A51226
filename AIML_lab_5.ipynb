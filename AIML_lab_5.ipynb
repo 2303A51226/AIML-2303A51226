{
  "nbformat": 4,
  "nbformat_minor": 0,
  "metadata": {
    "colab": {
      "provenance": [],
      "authorship_tag": "ABX9TyOPEOafwmQpkL19NqQN5xWh",
      "include_colab_link": true
    },
    "kernelspec": {
      "name": "python3",
      "display_name": "Python 3"
    },
    "language_info": {
      "name": "python"
    }
  },
  "cells": [
    {
      "cell_type": "markdown",
      "metadata": {
        "id": "view-in-github",
        "colab_type": "text"
      },
      "source": [
        "<a href=\"https://colab.research.google.com/github/2303A51226/AIML-2303A51226/blob/main/AIML_lab_5.ipynb\" target=\"_parent\"><img src=\"https://colab.research.google.com/assets/colab-badge.svg\" alt=\"Open In Colab\"/></a>"
      ]
    },
    {
      "cell_type": "code",
      "execution_count": null,
      "metadata": {
        "id": "sGxvUqi6mJms"
      },
      "outputs": [],
      "source": [
        " import numpy as np\n",
        " import pandas as pd\n",
        " import matplotlib.pyplot as plt\n",
        " import seaborn as sns\n",
        "\n",
        " df = pd.read_csv(\"/content/titanic_train (1).csv\")\n",
        " df.head()\n",
        " df.info(verbose=True)\n",
        " print(df.columns)\n",
        " sns.pairplot(df)\n",
        " plt.show()\n",
        " df['SibSp'].plot.hist(bins=25, figsize=(8, 4))\n",
        "\n",
        " plt.show()\n",
        " plt.figure(figsize=(10, 7))\n",
        " numeric_df = df.select_dtypes(include=np.number)\n",
        "\n",
        " sns.heatmap(numeric_df.corr(), annot=True, linewidths=2)\n",
        " plt.show()"
      ]
    }
  ]
}